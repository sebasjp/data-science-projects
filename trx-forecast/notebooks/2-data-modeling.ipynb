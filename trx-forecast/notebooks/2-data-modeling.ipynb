{
 "cells": [
  {
   "cell_type": "code",
   "execution_count": 1,
   "metadata": {},
   "outputs": [],
   "source": [
    "import pandas as pd\n",
    "import numpy as np\n",
    "import matplotlib.pyplot as plt\n",
    "import seaborn as sns\n",
    "\n",
    "import sys\n",
    "sys.path.append('../src')\n",
    "from utils import process_data\n",
    "from utils import split_data\n",
    "\n",
    "from scipy import stats\n",
    "from statsmodels.tsa.stattools import adfuller\n",
    "from statsmodels.graphics.tsaplots import plot_pacf\n",
    "from statsmodels.tsa.arima.model import ARIMA\n",
    "#from pmdarima.arima import auto_arima\n",
    "from utils import train_naive\n",
    "from utils import train_arima\n",
    "from utils import predict_naive\n",
    "from utils import predict_arima\n",
    "from sklearn.linear_model import LinearRegression\n",
    "from sklearn.ensemble import RandomForestRegressor\n",
    "from utils import predict_regression\n",
    "from sklearn.metrics import mean_absolute_percentage_error\n",
    "from sklearn.metrics import mean_squared_error\n",
    "\n",
    "import warnings\n",
    "warnings.filterwarnings('ignore')"
   ]
  },
  {
   "cell_type": "code",
   "execution_count": 2,
   "metadata": {},
   "outputs": [
    {
     "name": "stdout",
     "output_type": "stream",
     "text": [
      "(775466, 3)\n"
     ]
    },
    {
     "data": {
      "text/html": [
       "<div>\n",
       "<style scoped>\n",
       "    .dataframe tbody tr th:only-of-type {\n",
       "        vertical-align: middle;\n",
       "    }\n",
       "\n",
       "    .dataframe tbody tr th {\n",
       "        vertical-align: top;\n",
       "    }\n",
       "\n",
       "    .dataframe thead th {\n",
       "        text-align: right;\n",
       "    }\n",
       "</style>\n",
       "<table border=\"1\" class=\"dataframe\">\n",
       "  <thead>\n",
       "    <tr style=\"text-align: right;\">\n",
       "      <th></th>\n",
       "      <th>fecha</th>\n",
       "      <th>idTerminal</th>\n",
       "      <th>oper</th>\n",
       "    </tr>\n",
       "  </thead>\n",
       "  <tbody>\n",
       "    <tr>\n",
       "      <th>0</th>\n",
       "      <td>2017-01-31 08:19:33.000</td>\n",
       "      <td>1828</td>\n",
       "      <td>0</td>\n",
       "    </tr>\n",
       "    <tr>\n",
       "      <th>1</th>\n",
       "      <td>2017-01-31 08:47:16.000</td>\n",
       "      <td>1828</td>\n",
       "      <td>1</td>\n",
       "    </tr>\n",
       "    <tr>\n",
       "      <th>2</th>\n",
       "      <td>2017-01-31 08:48:07.000</td>\n",
       "      <td>1828</td>\n",
       "      <td>1</td>\n",
       "    </tr>\n",
       "    <tr>\n",
       "      <th>3</th>\n",
       "      <td>2017-01-31 08:48:58.000</td>\n",
       "      <td>1828</td>\n",
       "      <td>1</td>\n",
       "    </tr>\n",
       "    <tr>\n",
       "      <th>4</th>\n",
       "      <td>2017-01-31 08:49:53.000</td>\n",
       "      <td>1828</td>\n",
       "      <td>1</td>\n",
       "    </tr>\n",
       "  </tbody>\n",
       "</table>\n",
       "</div>"
      ],
      "text/plain": [
       "                     fecha  idTerminal  oper\n",
       "0  2017-01-31 08:19:33.000        1828     0\n",
       "1  2017-01-31 08:47:16.000        1828     1\n",
       "2  2017-01-31 08:48:07.000        1828     1\n",
       "3  2017-01-31 08:48:58.000        1828     1\n",
       "4  2017-01-31 08:49:53.000        1828     1"
      ]
     },
     "execution_count": 2,
     "metadata": {},
     "output_type": "execute_result"
    }
   ],
   "source": [
    "data = pd.read_csv('../data/data_01.txt', sep = '\\t')\n",
    "\n",
    "print(data.shape)\n",
    "data.head()"
   ]
  },
  {
   "cell_type": "code",
   "execution_count": 3,
   "metadata": {},
   "outputs": [],
   "source": [
    "lag_test = 15"
   ]
  },
  {
   "cell_type": "code",
   "execution_count": 4,
   "metadata": {},
   "outputs": [
    {
     "name": "stdout",
     "output_type": "stream",
     "text": [
      "Test dataset is from 2017-05-17 to 2017-05-31\n"
     ]
    }
   ],
   "source": [
    "# split data\n",
    "train_raw, test_raw = split_data(data, lag_test = lag_test)"
   ]
  },
  {
   "cell_type": "code",
   "execution_count": 5,
   "metadata": {},
   "outputs": [],
   "source": [
    "train_process = process_data(train_raw)\n",
    "test_process  = process_data(test_raw)"
   ]
  },
  {
   "cell_type": "code",
   "execution_count": 6,
   "metadata": {
    "scrolled": true
   },
   "outputs": [
    {
     "name": "stdout",
     "output_type": "stream",
     "text": [
      "(44036, 6)\n"
     ]
    },
    {
     "data": {
      "text/html": [
       "<div>\n",
       "<style scoped>\n",
       "    .dataframe tbody tr th:only-of-type {\n",
       "        vertical-align: middle;\n",
       "    }\n",
       "\n",
       "    .dataframe tbody tr th {\n",
       "        vertical-align: top;\n",
       "    }\n",
       "\n",
       "    .dataframe thead th {\n",
       "        text-align: right;\n",
       "    }\n",
       "</style>\n",
       "<table border=\"1\" class=\"dataframe\">\n",
       "  <thead>\n",
       "    <tr style=\"text-align: right;\">\n",
       "      <th></th>\n",
       "      <th>dia</th>\n",
       "      <th>oper</th>\n",
       "      <th>idTerminal</th>\n",
       "      <th>num_trx</th>\n",
       "      <th>nombre_dia</th>\n",
       "      <th>weekend</th>\n",
       "    </tr>\n",
       "  </thead>\n",
       "  <tbody>\n",
       "    <tr>\n",
       "      <th>0</th>\n",
       "      <td>2017-01-31</td>\n",
       "      <td>0</td>\n",
       "      <td>1507</td>\n",
       "      <td>21</td>\n",
       "      <td>Mar</td>\n",
       "      <td>0</td>\n",
       "    </tr>\n",
       "    <tr>\n",
       "      <th>1</th>\n",
       "      <td>2017-01-31</td>\n",
       "      <td>0</td>\n",
       "      <td>1537</td>\n",
       "      <td>69</td>\n",
       "      <td>Mar</td>\n",
       "      <td>0</td>\n",
       "    </tr>\n",
       "    <tr>\n",
       "      <th>2</th>\n",
       "      <td>2017-01-31</td>\n",
       "      <td>0</td>\n",
       "      <td>1574</td>\n",
       "      <td>83</td>\n",
       "      <td>Mar</td>\n",
       "      <td>0</td>\n",
       "    </tr>\n",
       "    <tr>\n",
       "      <th>3</th>\n",
       "      <td>2017-01-31</td>\n",
       "      <td>0</td>\n",
       "      <td>1575</td>\n",
       "      <td>64</td>\n",
       "      <td>Mar</td>\n",
       "      <td>0</td>\n",
       "    </tr>\n",
       "    <tr>\n",
       "      <th>4</th>\n",
       "      <td>2017-01-31</td>\n",
       "      <td>0</td>\n",
       "      <td>1577</td>\n",
       "      <td>200</td>\n",
       "      <td>Mar</td>\n",
       "      <td>0</td>\n",
       "    </tr>\n",
       "  </tbody>\n",
       "</table>\n",
       "</div>"
      ],
      "text/plain": [
       "         dia  oper  idTerminal  num_trx nombre_dia  weekend\n",
       "0 2017-01-31     0        1507       21        Mar        0\n",
       "1 2017-01-31     0        1537       69        Mar        0\n",
       "2 2017-01-31     0        1574       83        Mar        0\n",
       "3 2017-01-31     0        1575       64        Mar        0\n",
       "4 2017-01-31     0        1577      200        Mar        0"
      ]
     },
     "execution_count": 6,
     "metadata": {},
     "output_type": "execute_result"
    }
   ],
   "source": [
    "print(train_process.shape)\n",
    "train_process.head()"
   ]
  },
  {
   "cell_type": "markdown",
   "metadata": {},
   "source": [
    "**Ideas metodologicas:**\n",
    "\n",
    "Por practicidad se considerará utilizar una metodología *top-down*, esto significa, proyectar el número de transacciones a nivel diario, y luego ir haciendo deep-dive hacia el top de operaciones y luego hacia el top de terminales."
   ]
  },
  {
   "cell_type": "code",
   "execution_count": 7,
   "metadata": {},
   "outputs": [],
   "source": [
    "train = train_process \\\n",
    "        .groupby(['dia', 'nombre_dia', 'weekend']) \\\n",
    "        .agg({'num_trx' : 'sum'}) \\\n",
    "        .reset_index()"
   ]
  },
  {
   "cell_type": "code",
   "execution_count": 8,
   "metadata": {},
   "outputs": [],
   "source": [
    "test = test_process \\\n",
    "        .groupby(['dia', 'nombre_dia', 'weekend']) \\\n",
    "        .agg({'num_trx' : 'sum'}) \\\n",
    "        .reset_index()"
   ]
  },
  {
   "cell_type": "code",
   "execution_count": 9,
   "metadata": {},
   "outputs": [
    {
     "name": "stdout",
     "output_type": "stream",
     "text": [
      "(106, 4)\n"
     ]
    },
    {
     "data": {
      "text/html": [
       "<div>\n",
       "<style scoped>\n",
       "    .dataframe tbody tr th:only-of-type {\n",
       "        vertical-align: middle;\n",
       "    }\n",
       "\n",
       "    .dataframe tbody tr th {\n",
       "        vertical-align: top;\n",
       "    }\n",
       "\n",
       "    .dataframe thead th {\n",
       "        text-align: right;\n",
       "    }\n",
       "</style>\n",
       "<table border=\"1\" class=\"dataframe\">\n",
       "  <thead>\n",
       "    <tr style=\"text-align: right;\">\n",
       "      <th></th>\n",
       "      <th>dia</th>\n",
       "      <th>nombre_dia</th>\n",
       "      <th>weekend</th>\n",
       "      <th>num_trx</th>\n",
       "    </tr>\n",
       "  </thead>\n",
       "  <tbody>\n",
       "    <tr>\n",
       "      <th>0</th>\n",
       "      <td>2017-01-31</td>\n",
       "      <td>Mar</td>\n",
       "      <td>0</td>\n",
       "      <td>6028</td>\n",
       "    </tr>\n",
       "    <tr>\n",
       "      <th>1</th>\n",
       "      <td>2017-02-01</td>\n",
       "      <td>Mie</td>\n",
       "      <td>0</td>\n",
       "      <td>12760</td>\n",
       "    </tr>\n",
       "    <tr>\n",
       "      <th>2</th>\n",
       "      <td>2017-02-02</td>\n",
       "      <td>Jue</td>\n",
       "      <td>0</td>\n",
       "      <td>9246</td>\n",
       "    </tr>\n",
       "    <tr>\n",
       "      <th>3</th>\n",
       "      <td>2017-02-03</td>\n",
       "      <td>Vie</td>\n",
       "      <td>0</td>\n",
       "      <td>9667</td>\n",
       "    </tr>\n",
       "    <tr>\n",
       "      <th>4</th>\n",
       "      <td>2017-02-04</td>\n",
       "      <td>Sab</td>\n",
       "      <td>1</td>\n",
       "      <td>6212</td>\n",
       "    </tr>\n",
       "  </tbody>\n",
       "</table>\n",
       "</div>"
      ],
      "text/plain": [
       "         dia nombre_dia  weekend  num_trx\n",
       "0 2017-01-31        Mar        0     6028\n",
       "1 2017-02-01        Mie        0    12760\n",
       "2 2017-02-02        Jue        0     9246\n",
       "3 2017-02-03        Vie        0     9667\n",
       "4 2017-02-04        Sab        1     6212"
      ]
     },
     "execution_count": 9,
     "metadata": {},
     "output_type": "execute_result"
    }
   ],
   "source": [
    "print(train.shape)\n",
    "train.head()"
   ]
  },
  {
   "cell_type": "markdown",
   "metadata": {},
   "source": [
    "Algo importante a notar, es que solo contamos con 106 días de información en nuestra data de entrenamiento, puede ser muy poca información para un modelo de series de tiempo o Machine Learning, sin embargo, se intentará ajustar un modelo de series de tiempo (ARIMA) y también se formulará como un problema de regresión con el fin de probar una Regresión Lineal y un Random Forest."
   ]
  },
  {
   "cell_type": "markdown",
   "metadata": {},
   "source": [
    "**Modelo Ingenuo (Baseline)**\n",
    "\n",
    "El modelo ingenuo consiste en que el pronóstico será de la forma: $\\hat{y}_t = y_{t-7}$\n",
    "Es decir, el número de transacciones realizadas en la semana anterior."
   ]
  },
  {
   "cell_type": "code",
   "execution_count": 10,
   "metadata": {},
   "outputs": [],
   "source": [
    "model_naive = train_naive(train['num_trx'])\n",
    "pred_naive = predict_naive(model_naive, periods = 15)"
   ]
  },
  {
   "cell_type": "code",
   "execution_count": 11,
   "metadata": {},
   "outputs": [
    {
     "name": "stdout",
     "output_type": "stream",
     "text": [
      "0.4257983689677947\n",
      "2584.115619188378\n"
     ]
    }
   ],
   "source": [
    "print(mean_absolute_percentage_error(test['num_trx'], pred_naive))\n",
    "print(mean_squared_error(test['num_trx'], pred_naive, squared = False))"
   ]
  },
  {
   "cell_type": "code",
   "execution_count": 12,
   "metadata": {},
   "outputs": [
    {
     "data": {
      "image/png": "[encoded data removed]",
      "text/plain": [
       "<Figure size 432x288 with 1 Axes>"
      ]
     },
     "metadata": {
      "needs_background": "light"
     },
     "output_type": "display_data"
    }
   ],
   "source": [
    "sns.lineplot(x = 'dia', y = 'num_trx', data = test, color = 'black')\n",
    "sns.lineplot(x = test['dia'], y = pred_naive, color = 'red')\n",
    "_ = plt.xticks(rotation = 90)"
   ]
  },
  {
   "cell_type": "markdown",
   "metadata": {},
   "source": [
    "**Modelo ARIMA**"
   ]
  },
  {
   "cell_type": "code",
   "execution_count": 13,
   "metadata": {},
   "outputs": [
    {
     "data": {
      "image/png": "[encoded data removed]",
      "text/plain": [
       "<Figure size 432x288 with 1 Axes>"
      ]
     },
     "metadata": {
      "needs_background": "light"
     },
     "output_type": "display_data"
    }
   ],
   "source": [
    "sns.lineplot(x = 'dia', y = 'num_trx', data = train)\n",
    "_ = plt.xticks(rotation = 90)"
   ]
  },
  {
   "cell_type": "markdown",
   "metadata": {},
   "source": [
    "El comportamiento del número de transacciones diarias parece no presentar ninguna tendencia, sin embargo la si parece tener momentos de mayor variabilidad que otros. Para considerar un **modelo ARIMA**, debemos evaluar si la serie presenta comportamiento estacionario, en primera instancia realizamos la transformación Box-Cox, con el fin de estabilizar su variabilidad."
   ]
  },
  {
   "cell_type": "code",
   "execution_count": 14,
   "metadata": {},
   "outputs": [],
   "source": [
    "x = train['num_trx'].values\n",
    "xt, lmbda = stats.boxcox(x)"
   ]
  },
  {
   "cell_type": "code",
   "execution_count": 15,
   "metadata": {},
   "outputs": [
    {
     "name": "stdout",
     "output_type": "stream",
     "text": [
      "lambda: 0.5675686227429437\n"
     ]
    }
   ],
   "source": [
    "print('lambda:', lmbda)"
   ]
  },
  {
   "cell_type": "markdown",
   "metadata": {},
   "source": [
    "Una vez la serie es estabilizada en varianza, probamos si debemos aplicar alguna **diferenciación** para estabilizar la serie en tendencia, por medio de la prueba estadística Dickey-Fuller Aumentada (ADF, por sus siglas en inglés).\n",
    "\n",
    "**Hipótesis:**\n",
    "\n",
    "**$H_0$:** La serie **no** es estacionaria, por lo tanto necesita diferenciación.\n",
    "\n",
    "**$H_1$:** La serie **es** estacionaria, por lo tanto no necesita diferenciación."
   ]
  },
  {
   "cell_type": "code",
   "execution_count": 16,
   "metadata": {},
   "outputs": [
    {
     "name": "stdout",
     "output_type": "stream",
     "text": [
      "ADF Statistic: -4.378344\n",
      "p-value: 0.000324\n"
     ]
    }
   ],
   "source": [
    "result = adfuller(xt)\n",
    "print('ADF Statistic: %f' % result[0])\n",
    "print('p-value: %f' % result[1])"
   ]
  },
  {
   "cell_type": "markdown",
   "metadata": {},
   "source": [
    "Se obtuvo un p-value cercano a 0, por lo que a un nivel de significancia del 5% se rechaza **$H_0$**, podemos concluir que la serie es estacionaria."
   ]
  },
  {
   "cell_type": "code",
   "execution_count": 17,
   "metadata": {},
   "outputs": [
    {
     "data": {
      "image/png": "[encoded data removed]",
      "text/plain": [
       "<Figure size 432x288 with 1 Axes>"
      ]
     },
     "execution_count": 17,
     "metadata": {},
     "output_type": "execute_result"
    },
    {
     "data": {
      "image/png": "[encoded data removed]",
      "text/plain": [
       "<Figure size 432x288 with 1 Axes>"
      ]
     },
     "metadata": {
      "needs_background": "light"
     },
     "output_type": "display_data"
    }
   ],
   "source": [
    "plot_pacf(xt, lags = 30)"
   ]
  },
  {
   "cell_type": "markdown",
   "metadata": {},
   "source": [
    "Utilizando el comportamiento de la función de autocorrelación y la función de autocorrelación parcial, se evidencian que los rezagos significativos son el 1, 7 y 8. Luego de varias iteraciones el modelo que pudo converger fue $ARIMA(7, 0, 1)$.\n",
    "\n",
    "Por temas de tiempo asumiremos que el modelo cumple con los supuestos de Normalidad y No autocorrelación."
   ]
  },
  {
   "cell_type": "code",
   "execution_count": 18,
   "metadata": {},
   "outputs": [],
   "source": [
    "model_arima = train_arima(xt, p = 7, d = 0, q = 1)\n",
    "pred_arima  = predict_arima(model_arima, periods = 15, lmbda = lmbda)"
   ]
  },
  {
   "cell_type": "code",
   "execution_count": 19,
   "metadata": {},
   "outputs": [
    {
     "name": "stdout",
     "output_type": "stream",
     "text": [
      "0.5673699732258858\n",
      "2793.105989550871\n"
     ]
    }
   ],
   "source": [
    "print(mean_absolute_percentage_error(test['num_trx'], pred_arima))\n",
    "print(mean_squared_error(test['num_trx'], pred_arima, squared = False))"
   ]
  },
  {
   "cell_type": "code",
   "execution_count": 20,
   "metadata": {},
   "outputs": [
    {
     "data": {
      "image/png": "[encoded data removed]",
      "text/plain": [
       "<Figure size 432x288 with 1 Axes>"
      ]
     },
     "metadata": {
      "needs_background": "light"
     },
     "output_type": "display_data"
    }
   ],
   "source": [
    "sns.lineplot(x = 'dia', y = 'num_trx', data = test, color = 'black')\n",
    "sns.lineplot(x = test['dia'], y = pred_arima, color = 'red')\n",
    "_ = plt.xticks(rotation = 90)"
   ]
  },
  {
   "cell_type": "markdown",
   "metadata": {},
   "source": [
    "**Enfoque de regresón**"
   ]
  },
  {
   "cell_type": "code",
   "execution_count": 21,
   "metadata": {},
   "outputs": [],
   "source": [
    "train['lag1'] = train['num_trx'].shift(1)\n",
    "train['lag7'] = train['num_trx'].shift(7)\n",
    "\n",
    "test['lag1'] = np.nan\n",
    "test['lag7'] = np.nan"
   ]
  },
  {
   "cell_type": "code",
   "execution_count": 22,
   "metadata": {},
   "outputs": [],
   "source": [
    "total = pd.concat([train, test])\n",
    "total['lag1'] = total['num_trx'].shift(1)\n",
    "total['lag7'] = total['num_trx'].shift(7)\n",
    "\n",
    "test = total[-lag_test:]"
   ]
  },
  {
   "cell_type": "code",
   "execution_count": 23,
   "metadata": {},
   "outputs": [],
   "source": [
    "test.loc[1:, 'lag1'] = None\n",
    "test.loc[7:, 'lag7'] = None"
   ]
  },
  {
   "cell_type": "code",
   "execution_count": 24,
   "metadata": {},
   "outputs": [],
   "source": [
    "train_ml = train.dropna()\n",
    "test_ml  = test.copy()"
   ]
  },
  {
   "cell_type": "code",
   "execution_count": 25,
   "metadata": {},
   "outputs": [],
   "source": [
    "y_train = train_ml['num_trx'].values\n",
    "X_train = train_ml[['weekend', 'lag1', 'lag7']]"
   ]
  },
  {
   "cell_type": "code",
   "execution_count": 26,
   "metadata": {},
   "outputs": [],
   "source": [
    "y_test = test_ml['num_trx'].values\n",
    "X_test = test_ml[['weekend', 'lag1', 'lag7']]"
   ]
  },
  {
   "cell_type": "markdown",
   "metadata": {},
   "source": [
    "**Regresión Lineal**"
   ]
  },
  {
   "cell_type": "code",
   "execution_count": 27,
   "metadata": {},
   "outputs": [
    {
     "data": {
      "text/html": [
       "<div>\n",
       "<style scoped>\n",
       "    .dataframe tbody tr th:only-of-type {\n",
       "        vertical-align: middle;\n",
       "    }\n",
       "\n",
       "    .dataframe tbody tr th {\n",
       "        vertical-align: top;\n",
       "    }\n",
       "\n",
       "    .dataframe thead th {\n",
       "        text-align: right;\n",
       "    }\n",
       "</style>\n",
       "<table border=\"1\" class=\"dataframe\">\n",
       "  <thead>\n",
       "    <tr style=\"text-align: right;\">\n",
       "      <th></th>\n",
       "      <th>weekend</th>\n",
       "      <th>num_trx</th>\n",
       "      <th>lag1</th>\n",
       "      <th>lag7</th>\n",
       "    </tr>\n",
       "  </thead>\n",
       "  <tbody>\n",
       "    <tr>\n",
       "      <th>weekend</th>\n",
       "      <td>1.000000</td>\n",
       "      <td>-0.649395</td>\n",
       "      <td>0.016755</td>\n",
       "      <td>-0.527726</td>\n",
       "    </tr>\n",
       "    <tr>\n",
       "      <th>num_trx</th>\n",
       "      <td>-0.649395</td>\n",
       "      <td>1.000000</td>\n",
       "      <td>0.363678</td>\n",
       "      <td>0.239461</td>\n",
       "    </tr>\n",
       "    <tr>\n",
       "      <th>lag1</th>\n",
       "      <td>0.016755</td>\n",
       "      <td>0.363678</td>\n",
       "      <td>1.000000</td>\n",
       "      <td>-0.009566</td>\n",
       "    </tr>\n",
       "    <tr>\n",
       "      <th>lag7</th>\n",
       "      <td>-0.527726</td>\n",
       "      <td>0.239461</td>\n",
       "      <td>-0.009566</td>\n",
       "      <td>1.000000</td>\n",
       "    </tr>\n",
       "  </tbody>\n",
       "</table>\n",
       "</div>"
      ],
      "text/plain": [
       "          weekend   num_trx      lag1      lag7\n",
       "weekend  1.000000 -0.649395  0.016755 -0.527726\n",
       "num_trx -0.649395  1.000000  0.363678  0.239461\n",
       "lag1     0.016755  0.363678  1.000000 -0.009566\n",
       "lag7    -0.527726  0.239461 -0.009566  1.000000"
      ]
     },
     "execution_count": 27,
     "metadata": {},
     "output_type": "execute_result"
    }
   ],
   "source": [
    "train.corr()"
   ]
  },
  {
   "cell_type": "code",
   "execution_count": 28,
   "metadata": {},
   "outputs": [
    {
     "data": {
      "text/plain": [
       "LinearRegression()"
      ]
     },
     "execution_count": 28,
     "metadata": {},
     "output_type": "execute_result"
    }
   ],
   "source": [
    "lr = LinearRegression()\n",
    "lr.fit(X_train, y_train)"
   ]
  },
  {
   "cell_type": "code",
   "execution_count": 29,
   "metadata": {},
   "outputs": [],
   "source": [
    "pred_lr = predict_regression(X_test, model = lr)"
   ]
  },
  {
   "cell_type": "code",
   "execution_count": 30,
   "metadata": {},
   "outputs": [
    {
     "name": "stdout",
     "output_type": "stream",
     "text": [
      "0.3848575829879256\n",
      "2531.2338161965004\n"
     ]
    }
   ],
   "source": [
    "print(mean_absolute_percentage_error(test['num_trx'], pred_lr))\n",
    "print(mean_squared_error(test['num_trx'], pred_lr, squared = False))"
   ]
  },
  {
   "cell_type": "code",
   "execution_count": 31,
   "metadata": {},
   "outputs": [
    {
     "data": {
      "image/png": "[encoded data removed]",
      "text/plain": [
       "<Figure size 432x288 with 1 Axes>"
      ]
     },
     "metadata": {
      "needs_background": "light"
     },
     "output_type": "display_data"
    }
   ],
   "source": [
    "sns.lineplot(x = 'dia', y = 'num_trx', data = test, color = 'black')\n",
    "sns.lineplot(x = test['dia'], y = pred_lr, color = 'red')\n",
    "_ = plt.xticks(rotation = 90)"
   ]
  },
  {
   "cell_type": "markdown",
   "metadata": {},
   "source": [
    "**Random Forest**"
   ]
  },
  {
   "cell_type": "code",
   "execution_count": 45,
   "metadata": {},
   "outputs": [
    {
     "data": {
      "text/plain": [
       "RandomForestRegressor(random_state=123)"
      ]
     },
     "execution_count": 45,
     "metadata": {},
     "output_type": "execute_result"
    }
   ],
   "source": [
    "rf = RandomForestRegressor(random_state = 123)\n",
    "rf.fit(X_train, y_train)"
   ]
  },
  {
   "cell_type": "code",
   "execution_count": 46,
   "metadata": {},
   "outputs": [],
   "source": [
    "pred_rf = predict_regression(X_test, model = rf)"
   ]
  },
  {
   "cell_type": "code",
   "execution_count": 47,
   "metadata": {},
   "outputs": [
    {
     "name": "stdout",
     "output_type": "stream",
     "text": [
      "0.3341462291053641\n",
      "2541.0391369267286\n"
     ]
    }
   ],
   "source": [
    "print(mean_absolute_percentage_error(test['num_trx'], pred_rf))\n",
    "print(mean_squared_error(test['num_trx'], pred_rf, squared = False))"
   ]
  },
  {
   "cell_type": "code",
   "execution_count": 48,
   "metadata": {},
   "outputs": [
    {
     "data": {
      "image/png": "[encoded data removed]",
      "text/plain": [
       "<Figure size 432x288 with 1 Axes>"
      ]
     },
     "metadata": {
      "needs_background": "light"
     },
     "output_type": "display_data"
    }
   ],
   "source": [
    "sns.lineplot(x = 'dia', y = 'num_trx', data = test, color = 'black')\n",
    "sns.lineplot(x = test['dia'], y = pred_rf, color = 'red')\n",
    "_ = plt.xticks(rotation = 90)"
   ]
  },
  {
   "cell_type": "markdown",
   "metadata": {},
   "source": [
    "**Predicciones consolidadas**"
   ]
  },
  {
   "cell_type": "code",
   "execution_count": 49,
   "metadata": {},
   "outputs": [],
   "source": [
    "df_results = pd.DataFrame({'dia'  : test['dia'],\n",
    "                           'real' : test['num_trx'],\n",
    "                           'baseline': pred_naive,\n",
    "                           'arima' : pred_arima,\n",
    "                           'lr' : pred_lr,\n",
    "                           'rf' : pred_rf})"
   ]
  },
  {
   "cell_type": "code",
   "execution_count": 50,
   "metadata": {},
   "outputs": [],
   "source": [
    "df_metrics = {}\n",
    "df_metrics['model'] = []\n",
    "df_metrics['mape'] = []\n",
    "df_metrics['rmse'] = []\n",
    "\n",
    "for x in ['baseline', 'arima', 'lr', 'rf']:\n",
    "    \n",
    "    mape = mean_absolute_percentage_error(df_results['real'], df_results[x])\n",
    "    rmse = mean_squared_error(df_results['real'], df_results[x], squared = False)\n",
    "    \n",
    "    df_metrics['model'].append(x)\n",
    "    df_metrics['mape'].append(mape)\n",
    "    df_metrics['rmse'].append(rmse)\n",
    "\n",
    "df_metrics = pd.DataFrame(df_metrics)"
   ]
  },
  {
   "cell_type": "code",
   "execution_count": 51,
   "metadata": {},
   "outputs": [
    {
     "data": {
      "text/html": [
       "<div>\n",
       "<style scoped>\n",
       "    .dataframe tbody tr th:only-of-type {\n",
       "        vertical-align: middle;\n",
       "    }\n",
       "\n",
       "    .dataframe tbody tr th {\n",
       "        vertical-align: top;\n",
       "    }\n",
       "\n",
       "    .dataframe thead th {\n",
       "        text-align: right;\n",
       "    }\n",
       "</style>\n",
       "<table border=\"1\" class=\"dataframe\">\n",
       "  <thead>\n",
       "    <tr style=\"text-align: right;\">\n",
       "      <th></th>\n",
       "      <th>model</th>\n",
       "      <th>mape</th>\n",
       "      <th>rmse</th>\n",
       "    </tr>\n",
       "  </thead>\n",
       "  <tbody>\n",
       "    <tr>\n",
       "      <th>0</th>\n",
       "      <td>baseline</td>\n",
       "      <td>0.425798</td>\n",
       "      <td>2584.115619</td>\n",
       "    </tr>\n",
       "    <tr>\n",
       "      <th>1</th>\n",
       "      <td>arima</td>\n",
       "      <td>0.567370</td>\n",
       "      <td>2793.105990</td>\n",
       "    </tr>\n",
       "    <tr>\n",
       "      <th>2</th>\n",
       "      <td>lr</td>\n",
       "      <td>0.384858</td>\n",
       "      <td>2531.233816</td>\n",
       "    </tr>\n",
       "    <tr>\n",
       "      <th>3</th>\n",
       "      <td>rf</td>\n",
       "      <td>0.334146</td>\n",
       "      <td>2541.039137</td>\n",
       "    </tr>\n",
       "  </tbody>\n",
       "</table>\n",
       "</div>"
      ],
      "text/plain": [
       "      model      mape         rmse\n",
       "0  baseline  0.425798  2584.115619\n",
       "1     arima  0.567370  2793.105990\n",
       "2        lr  0.384858  2531.233816\n",
       "3        rf  0.334146  2541.039137"
      ]
     },
     "execution_count": 51,
     "metadata": {},
     "output_type": "execute_result"
    }
   ],
   "source": [
    "df_metrics"
   ]
  },
  {
   "cell_type": "markdown",
   "metadata": {},
   "source": [
    "Dado que el modelo **Random Forest** presenta el **menor** MAPE y su RMSE es muy similar a la regresión lineal, será seleccionado como **mejor modelo** dentro del champion challenge."
   ]
  },
  {
   "cell_type": "markdown",
   "metadata": {},
   "source": [
    "**Proyección por operación y terminal**"
   ]
  },
  {
   "cell_type": "code",
   "execution_count": 52,
   "metadata": {},
   "outputs": [],
   "source": [
    "date_compute_share = sorted(train_process['dia'].unique())[-lag_test]"
   ]
  },
  {
   "cell_type": "code",
   "execution_count": 53,
   "metadata": {},
   "outputs": [],
   "source": [
    "last_days = train_process[train_process['dia'] >= date_compute_share]"
   ]
  },
  {
   "cell_type": "code",
   "execution_count": 74,
   "metadata": {},
   "outputs": [],
   "source": [
    "top_oper = [0, 3, 1, 7, 4]\n",
    "top_term = [1908, 1964, 1774, 1910, 1980]"
   ]
  },
  {
   "cell_type": "code",
   "execution_count": 55,
   "metadata": {},
   "outputs": [],
   "source": [
    "agg_last_days = last_days \\\n",
    "                .groupby(['dia', 'weekend']) \\\n",
    "                .agg({'num_trx': 'sum'})\n",
    "\n",
    "agg_last_days_oper = last_days \\\n",
    "                    .groupby(['dia', 'weekend', 'oper'], as_index = False) \\\n",
    "                    .agg({'num_trx': 'sum'})\n",
    "\n",
    "agg_last_days_oper = agg_last_days_oper.set_index(['dia', 'weekend'])\n",
    "agg_last_days_oper = agg_last_days_oper.rename(columns = {'num_trx': 'num_trx_oper'})\n",
    "\n",
    "agg_last_days_oper = agg_last_days_oper.join(agg_last_days)\n",
    "\n",
    "agg_last_days_oper['share'] = agg_last_days_oper['num_trx_oper'] / agg_last_days_oper['num_trx']\n",
    "\n",
    "agg_last_days_oper = agg_last_days_oper.reset_index()"
   ]
  },
  {
   "cell_type": "code",
   "execution_count": 56,
   "metadata": {},
   "outputs": [],
   "source": [
    "share_oper = agg_last_days_oper \\\n",
    "             .groupby(['oper', 'weekend'], as_index = False) \\\n",
    "             .agg({'share': 'mean'})\n",
    "\n",
    "share_oper = share_oper[share_oper['oper'].isin(top_oper)]\n",
    "share_oper = share_oper.pivot_table(index = ['weekend'], columns = 'oper')\n",
    "share_oper.columns = ['oper_' + str(x[1]) for x in share_oper.columns]"
   ]
  },
  {
   "cell_type": "code",
   "execution_count": 57,
   "metadata": {},
   "outputs": [],
   "source": [
    "final_predictions = test.copy()\n",
    "final_predictions['pred'] = pred_rf\n",
    "final_predictions = final_predictions[['dia', 'weekend', 'num_trx', 'pred']]\n",
    "final_predictions = final_predictions \\\n",
    "                    .set_index('weekend') \\\n",
    "                    .join(share_oper)"
   ]
  },
  {
   "cell_type": "code",
   "execution_count": 58,
   "metadata": {},
   "outputs": [],
   "source": [
    "for x in share_oper.columns:\n",
    "    final_predictions[x] = final_predictions[x] * final_predictions['pred']"
   ]
  },
  {
   "cell_type": "code",
   "execution_count": 59,
   "metadata": {},
   "outputs": [],
   "source": [
    "final_predictions = final_predictions.sort_values('dia')"
   ]
  },
  {
   "cell_type": "code",
   "execution_count": 64,
   "metadata": {},
   "outputs": [],
   "source": [
    "final_predictions = final_predictions.reset_index()\n",
    "final_predictions = final_predictions.set_index('dia')"
   ]
  },
  {
   "cell_type": "code",
   "execution_count": 68,
   "metadata": {
    "scrolled": false
   },
   "outputs": [],
   "source": [
    "# Real oper values\n",
    "test_real_oper = test_process \\\n",
    "                .query('oper in @top_oper') \\\n",
    "                .groupby(['dia', 'oper'], as_index = False) \\\n",
    "                .agg({'num_trx': 'sum'}) \\\n",
    "                .pivot_table(index = 'dia', columns = 'oper')\n",
    "\n",
    "test_real_oper.columns = share_oper.columns + '_real'"
   ]
  },
  {
   "cell_type": "code",
   "execution_count": 71,
   "metadata": {},
   "outputs": [],
   "source": [
    "df_results_oper = test_real_oper.join(final_predictions)"
   ]
  },
  {
   "cell_type": "code",
   "execution_count": 72,
   "metadata": {},
   "outputs": [],
   "source": [
    "df_metrics = {}\n",
    "df_metrics['oper'] = []\n",
    "df_metrics['mape'] = []\n",
    "df_metrics['rmse'] = []\n",
    "\n",
    "for x in share_oper.columns:\n",
    "    \n",
    "    mape = mean_absolute_percentage_error(df_results_oper[x + '_real'], df_results_oper[x])\n",
    "    rmse = mean_squared_error(df_results_oper[x + '_real'], df_results_oper[x], squared = False)\n",
    "    \n",
    "    df_metrics['oper'].append(x)\n",
    "    df_metrics['mape'].append(mape)\n",
    "    df_metrics['rmse'].append(rmse)\n",
    "\n",
    "df_metrics = pd.DataFrame(df_metrics)"
   ]
  },
  {
   "cell_type": "code",
   "execution_count": 73,
   "metadata": {},
   "outputs": [
    {
     "data": {
      "text/html": [
       "<div>\n",
       "<style scoped>\n",
       "    .dataframe tbody tr th:only-of-type {\n",
       "        vertical-align: middle;\n",
       "    }\n",
       "\n",
       "    .dataframe tbody tr th {\n",
       "        vertical-align: top;\n",
       "    }\n",
       "\n",
       "    .dataframe thead th {\n",
       "        text-align: right;\n",
       "    }\n",
       "</style>\n",
       "<table border=\"1\" class=\"dataframe\">\n",
       "  <thead>\n",
       "    <tr style=\"text-align: right;\">\n",
       "      <th></th>\n",
       "      <th>oper</th>\n",
       "      <th>mape</th>\n",
       "      <th>rmse</th>\n",
       "    </tr>\n",
       "  </thead>\n",
       "  <tbody>\n",
       "    <tr>\n",
       "      <th>0</th>\n",
       "      <td>oper_0</td>\n",
       "      <td>0.368835</td>\n",
       "      <td>1551.147928</td>\n",
       "    </tr>\n",
       "    <tr>\n",
       "      <th>1</th>\n",
       "      <td>oper_1</td>\n",
       "      <td>0.252663</td>\n",
       "      <td>190.207614</td>\n",
       "    </tr>\n",
       "    <tr>\n",
       "      <th>2</th>\n",
       "      <td>oper_3</td>\n",
       "      <td>0.368814</td>\n",
       "      <td>433.361340</td>\n",
       "    </tr>\n",
       "    <tr>\n",
       "      <th>3</th>\n",
       "      <td>oper_4</td>\n",
       "      <td>0.479398</td>\n",
       "      <td>149.666610</td>\n",
       "    </tr>\n",
       "    <tr>\n",
       "      <th>4</th>\n",
       "      <td>oper_7</td>\n",
       "      <td>0.184605</td>\n",
       "      <td>114.646373</td>\n",
       "    </tr>\n",
       "  </tbody>\n",
       "</table>\n",
       "</div>"
      ],
      "text/plain": [
       "     oper      mape         rmse\n",
       "0  oper_0  0.368835  1551.147928\n",
       "1  oper_1  0.252663   190.207614\n",
       "2  oper_3  0.368814   433.361340\n",
       "3  oper_4  0.479398   149.666610\n",
       "4  oper_7  0.184605   114.646373"
      ]
     },
     "execution_count": 73,
     "metadata": {},
     "output_type": "execute_result"
    }
   ],
   "source": [
    "df_metrics"
   ]
  },
  {
   "cell_type": "markdown",
   "metadata": {},
   "source": [
    "La operación 4 es la que presenta mayor **MAPE** y la operacion 7 presenta estimaciones **más precisas**.\n",
    "\n",
    "Ahora bien, ya que tenemos las estimaciones por operación seguimos yendo hacia la granularidad de terminal, utilizando el mismo mecanismo de share, pero en este caso sería el share de cada terminal dentro de cada operación."
   ]
  },
  {
   "cell_type": "code",
   "execution_count": 90,
   "metadata": {},
   "outputs": [],
   "source": [
    "df_results_oper = df_results_oper.reset_index()"
   ]
  },
  {
   "cell_type": "code",
   "execution_count": 109,
   "metadata": {},
   "outputs": [],
   "source": [
    "df_results_oper2 = df_results_oper[['dia', 'weekend','oper_0', 'oper_1', 'oper_3', 'oper_4', 'oper_7']] \\\n",
    "                   .melt(id_vars = ['dia', 'weekend'])"
   ]
  },
  {
   "cell_type": "code",
   "execution_count": 110,
   "metadata": {},
   "outputs": [],
   "source": [
    "df_results_oper2.columns = ['dia', 'weekend', 'oper', 'pred_oper']"
   ]
  },
  {
   "cell_type": "code",
   "execution_count": 116,
   "metadata": {},
   "outputs": [
    {
     "data": {
      "text/html": [
       "<div>\n",
       "<style scoped>\n",
       "    .dataframe tbody tr th:only-of-type {\n",
       "        vertical-align: middle;\n",
       "    }\n",
       "\n",
       "    .dataframe tbody tr th {\n",
       "        vertical-align: top;\n",
       "    }\n",
       "\n",
       "    .dataframe thead th {\n",
       "        text-align: right;\n",
       "    }\n",
       "</style>\n",
       "<table border=\"1\" class=\"dataframe\">\n",
       "  <thead>\n",
       "    <tr style=\"text-align: right;\">\n",
       "      <th></th>\n",
       "      <th>dia</th>\n",
       "      <th>weekend</th>\n",
       "      <th>oper</th>\n",
       "      <th>pred_oper</th>\n",
       "    </tr>\n",
       "  </thead>\n",
       "  <tbody>\n",
       "    <tr>\n",
       "      <th>0</th>\n",
       "      <td>2017-05-17</td>\n",
       "      <td>0</td>\n",
       "      <td>oper_0</td>\n",
       "      <td>5559.443109</td>\n",
       "    </tr>\n",
       "    <tr>\n",
       "      <th>1</th>\n",
       "      <td>2017-05-18</td>\n",
       "      <td>0</td>\n",
       "      <td>oper_0</td>\n",
       "      <td>5281.494005</td>\n",
       "    </tr>\n",
       "    <tr>\n",
       "      <th>2</th>\n",
       "      <td>2017-05-19</td>\n",
       "      <td>0</td>\n",
       "      <td>oper_0</td>\n",
       "      <td>5613.064789</td>\n",
       "    </tr>\n",
       "    <tr>\n",
       "      <th>3</th>\n",
       "      <td>2017-05-20</td>\n",
       "      <td>1</td>\n",
       "      <td>oper_0</td>\n",
       "      <td>2058.623162</td>\n",
       "    </tr>\n",
       "    <tr>\n",
       "      <th>4</th>\n",
       "      <td>2017-05-21</td>\n",
       "      <td>1</td>\n",
       "      <td>oper_0</td>\n",
       "      <td>984.282499</td>\n",
       "    </tr>\n",
       "    <tr>\n",
       "      <th>...</th>\n",
       "      <td>...</td>\n",
       "      <td>...</td>\n",
       "      <td>...</td>\n",
       "      <td>...</td>\n",
       "    </tr>\n",
       "    <tr>\n",
       "      <th>70</th>\n",
       "      <td>2017-05-27</td>\n",
       "      <td>1</td>\n",
       "      <td>oper_7</td>\n",
       "      <td>391.309507</td>\n",
       "    </tr>\n",
       "    <tr>\n",
       "      <th>71</th>\n",
       "      <td>2017-05-28</td>\n",
       "      <td>1</td>\n",
       "      <td>oper_7</td>\n",
       "      <td>165.261326</td>\n",
       "    </tr>\n",
       "    <tr>\n",
       "      <th>72</th>\n",
       "      <td>2017-05-29</td>\n",
       "      <td>1</td>\n",
       "      <td>oper_7</td>\n",
       "      <td>217.161115</td>\n",
       "    </tr>\n",
       "    <tr>\n",
       "      <th>73</th>\n",
       "      <td>2017-05-30</td>\n",
       "      <td>0</td>\n",
       "      <td>oper_7</td>\n",
       "      <td>508.532806</td>\n",
       "    </tr>\n",
       "    <tr>\n",
       "      <th>74</th>\n",
       "      <td>2017-05-31</td>\n",
       "      <td>0</td>\n",
       "      <td>oper_7</td>\n",
       "      <td>626.540125</td>\n",
       "    </tr>\n",
       "  </tbody>\n",
       "</table>\n",
       "<p>75 rows × 4 columns</p>\n",
       "</div>"
      ],
      "text/plain": [
       "          dia  weekend    oper    pred_oper\n",
       "0  2017-05-17        0  oper_0  5559.443109\n",
       "1  2017-05-18        0  oper_0  5281.494005\n",
       "2  2017-05-19        0  oper_0  5613.064789\n",
       "3  2017-05-20        1  oper_0  2058.623162\n",
       "4  2017-05-21        1  oper_0   984.282499\n",
       "..        ...      ...     ...          ...\n",
       "70 2017-05-27        1  oper_7   391.309507\n",
       "71 2017-05-28        1  oper_7   165.261326\n",
       "72 2017-05-29        1  oper_7   217.161115\n",
       "73 2017-05-30        0  oper_7   508.532806\n",
       "74 2017-05-31        0  oper_7   626.540125\n",
       "\n",
       "[75 rows x 4 columns]"
      ]
     },
     "execution_count": 116,
     "metadata": {},
     "output_type": "execute_result"
    }
   ],
   "source": [
    "df_results_oper2"
   ]
  },
  {
   "cell_type": "code",
   "execution_count": 120,
   "metadata": {},
   "outputs": [],
   "source": [
    "# Por terminal\n",
    "#agg_last_days_oper_term = last_days.set_index(['dia'])\n",
    "agg_last_days_oper_term = last_days.copy()\n",
    "agg_last_days_oper_term = agg_last_days_oper_term[agg_last_days_oper_term['idTerminal'].isin(top_term)]\n",
    "agg_last_days_oper_term = agg_last_days_oper_term.rename(columns = {'num_trx': 'num_trx_term'})\n",
    "agg_last_days_oper_term = agg_last_days_oper_term.drop(columns = ['nombre_dia', 'weekend'])\n",
    "\n",
    "agg_last_days_oper_term = agg_last_days_oper.merge(agg_last_days_oper_term,\n",
    "                                                   on = ['dia', 'oper'])\n",
    "\n",
    "agg_last_days_oper_term['share_term'] = agg_last_days_oper_term['num_trx_term'] / agg_last_days_oper_term['num_trx_oper']\n",
    "\n",
    "agg_last_days_oper_term['oper'] = 'oper_' + agg_last_days_oper_term['oper'].astype(str)"
   ]
  },
  {
   "cell_type": "code",
   "execution_count": 126,
   "metadata": {},
   "outputs": [],
   "source": [
    "agg_last_days_oper_term = agg_last_days_oper_term \\\n",
    "                            .groupby(['weekend', 'oper', 'idTerminal'], as_index = False) \\\n",
    "                            .agg({'share_term': 'mean'}) \\\n",
    "                            .merge(df_results_oper2, on = ['weekend', 'oper'])"
   ]
  },
  {
   "cell_type": "code",
   "execution_count": 128,
   "metadata": {},
   "outputs": [],
   "source": [
    "agg_last_days_oper_term['pred_term'] = agg_last_days_oper_term['pred_oper'] * agg_last_days_oper_term['share_term']"
   ]
  },
  {
   "cell_type": "code",
   "execution_count": 130,
   "metadata": {
    "scrolled": true
   },
   "outputs": [
    {
     "data": {
      "text/html": [
       "<div>\n",
       "<style scoped>\n",
       "    .dataframe tbody tr th:only-of-type {\n",
       "        vertical-align: middle;\n",
       "    }\n",
       "\n",
       "    .dataframe tbody tr th {\n",
       "        vertical-align: top;\n",
       "    }\n",
       "\n",
       "    .dataframe thead th {\n",
       "        text-align: right;\n",
       "    }\n",
       "</style>\n",
       "<table border=\"1\" class=\"dataframe\">\n",
       "  <thead>\n",
       "    <tr style=\"text-align: right;\">\n",
       "      <th></th>\n",
       "      <th>weekend</th>\n",
       "      <th>oper</th>\n",
       "      <th>idTerminal</th>\n",
       "      <th>share_term</th>\n",
       "      <th>dia</th>\n",
       "      <th>pred_oper</th>\n",
       "      <th>pred_term</th>\n",
       "    </tr>\n",
       "  </thead>\n",
       "  <tbody>\n",
       "    <tr>\n",
       "      <th>0</th>\n",
       "      <td>0</td>\n",
       "      <td>oper_0</td>\n",
       "      <td>1774</td>\n",
       "      <td>0.036610</td>\n",
       "      <td>2017-05-17</td>\n",
       "      <td>5559.443109</td>\n",
       "      <td>203.529390</td>\n",
       "    </tr>\n",
       "    <tr>\n",
       "      <th>1</th>\n",
       "      <td>0</td>\n",
       "      <td>oper_0</td>\n",
       "      <td>1774</td>\n",
       "      <td>0.036610</td>\n",
       "      <td>2017-05-18</td>\n",
       "      <td>5281.494005</td>\n",
       "      <td>193.353765</td>\n",
       "    </tr>\n",
       "    <tr>\n",
       "      <th>2</th>\n",
       "      <td>0</td>\n",
       "      <td>oper_0</td>\n",
       "      <td>1774</td>\n",
       "      <td>0.036610</td>\n",
       "      <td>2017-05-19</td>\n",
       "      <td>5613.064789</td>\n",
       "      <td>205.492462</td>\n",
       "    </tr>\n",
       "    <tr>\n",
       "      <th>3</th>\n",
       "      <td>0</td>\n",
       "      <td>oper_0</td>\n",
       "      <td>1774</td>\n",
       "      <td>0.036610</td>\n",
       "      <td>2017-05-22</td>\n",
       "      <td>3582.894192</td>\n",
       "      <td>131.168582</td>\n",
       "    </tr>\n",
       "    <tr>\n",
       "      <th>4</th>\n",
       "      <td>0</td>\n",
       "      <td>oper_0</td>\n",
       "      <td>1774</td>\n",
       "      <td>0.036610</td>\n",
       "      <td>2017-05-23</td>\n",
       "      <td>3827.375026</td>\n",
       "      <td>140.118945</td>\n",
       "    </tr>\n",
       "    <tr>\n",
       "      <th>5</th>\n",
       "      <td>0</td>\n",
       "      <td>oper_0</td>\n",
       "      <td>1774</td>\n",
       "      <td>0.036610</td>\n",
       "      <td>2017-05-24</td>\n",
       "      <td>4372.911132</td>\n",
       "      <td>160.090843</td>\n",
       "    </tr>\n",
       "    <tr>\n",
       "      <th>6</th>\n",
       "      <td>0</td>\n",
       "      <td>oper_0</td>\n",
       "      <td>1774</td>\n",
       "      <td>0.036610</td>\n",
       "      <td>2017-05-25</td>\n",
       "      <td>4734.283935</td>\n",
       "      <td>173.320583</td>\n",
       "    </tr>\n",
       "    <tr>\n",
       "      <th>7</th>\n",
       "      <td>0</td>\n",
       "      <td>oper_0</td>\n",
       "      <td>1774</td>\n",
       "      <td>0.036610</td>\n",
       "      <td>2017-05-26</td>\n",
       "      <td>4175.888505</td>\n",
       "      <td>152.877910</td>\n",
       "    </tr>\n",
       "    <tr>\n",
       "      <th>8</th>\n",
       "      <td>0</td>\n",
       "      <td>oper_0</td>\n",
       "      <td>1774</td>\n",
       "      <td>0.036610</td>\n",
       "      <td>2017-05-30</td>\n",
       "      <td>3872.813500</td>\n",
       "      <td>141.782433</td>\n",
       "    </tr>\n",
       "    <tr>\n",
       "      <th>9</th>\n",
       "      <td>0</td>\n",
       "      <td>oper_0</td>\n",
       "      <td>1774</td>\n",
       "      <td>0.036610</td>\n",
       "      <td>2017-05-31</td>\n",
       "      <td>4771.517249</td>\n",
       "      <td>174.683683</td>\n",
       "    </tr>\n",
       "    <tr>\n",
       "      <th>10</th>\n",
       "      <td>0</td>\n",
       "      <td>oper_0</td>\n",
       "      <td>1908</td>\n",
       "      <td>0.033508</td>\n",
       "      <td>2017-05-17</td>\n",
       "      <td>5559.443109</td>\n",
       "      <td>186.284391</td>\n",
       "    </tr>\n",
       "    <tr>\n",
       "      <th>11</th>\n",
       "      <td>0</td>\n",
       "      <td>oper_0</td>\n",
       "      <td>1908</td>\n",
       "      <td>0.033508</td>\n",
       "      <td>2017-05-18</td>\n",
       "      <td>5281.494005</td>\n",
       "      <td>176.970944</td>\n",
       "    </tr>\n",
       "    <tr>\n",
       "      <th>12</th>\n",
       "      <td>0</td>\n",
       "      <td>oper_0</td>\n",
       "      <td>1908</td>\n",
       "      <td>0.033508</td>\n",
       "      <td>2017-05-19</td>\n",
       "      <td>5613.064789</td>\n",
       "      <td>188.081132</td>\n",
       "    </tr>\n",
       "    <tr>\n",
       "      <th>13</th>\n",
       "      <td>0</td>\n",
       "      <td>oper_0</td>\n",
       "      <td>1908</td>\n",
       "      <td>0.033508</td>\n",
       "      <td>2017-05-22</td>\n",
       "      <td>3582.894192</td>\n",
       "      <td>120.054698</td>\n",
       "    </tr>\n",
       "    <tr>\n",
       "      <th>14</th>\n",
       "      <td>0</td>\n",
       "      <td>oper_0</td>\n",
       "      <td>1908</td>\n",
       "      <td>0.033508</td>\n",
       "      <td>2017-05-23</td>\n",
       "      <td>3827.375026</td>\n",
       "      <td>128.246699</td>\n",
       "    </tr>\n",
       "    <tr>\n",
       "      <th>15</th>\n",
       "      <td>0</td>\n",
       "      <td>oper_0</td>\n",
       "      <td>1908</td>\n",
       "      <td>0.033508</td>\n",
       "      <td>2017-05-24</td>\n",
       "      <td>4372.911132</td>\n",
       "      <td>146.526382</td>\n",
       "    </tr>\n",
       "    <tr>\n",
       "      <th>16</th>\n",
       "      <td>0</td>\n",
       "      <td>oper_0</td>\n",
       "      <td>1908</td>\n",
       "      <td>0.033508</td>\n",
       "      <td>2017-05-25</td>\n",
       "      <td>4734.283935</td>\n",
       "      <td>158.635169</td>\n",
       "    </tr>\n",
       "    <tr>\n",
       "      <th>17</th>\n",
       "      <td>0</td>\n",
       "      <td>oper_0</td>\n",
       "      <td>1908</td>\n",
       "      <td>0.033508</td>\n",
       "      <td>2017-05-26</td>\n",
       "      <td>4175.888505</td>\n",
       "      <td>139.924599</td>\n",
       "    </tr>\n",
       "    <tr>\n",
       "      <th>18</th>\n",
       "      <td>0</td>\n",
       "      <td>oper_0</td>\n",
       "      <td>1908</td>\n",
       "      <td>0.033508</td>\n",
       "      <td>2017-05-30</td>\n",
       "      <td>3872.813500</td>\n",
       "      <td>129.769239</td>\n",
       "    </tr>\n",
       "    <tr>\n",
       "      <th>19</th>\n",
       "      <td>0</td>\n",
       "      <td>oper_0</td>\n",
       "      <td>1908</td>\n",
       "      <td>0.033508</td>\n",
       "      <td>2017-05-31</td>\n",
       "      <td>4771.517249</td>\n",
       "      <td>159.882774</td>\n",
       "    </tr>\n",
       "  </tbody>\n",
       "</table>\n",
       "</div>"
      ],
      "text/plain": [
       "    weekend    oper  idTerminal  share_term        dia    pred_oper  \\\n",
       "0         0  oper_0        1774    0.036610 2017-05-17  5559.443109   \n",
       "1         0  oper_0        1774    0.036610 2017-05-18  5281.494005   \n",
       "2         0  oper_0        1774    0.036610 2017-05-19  5613.064789   \n",
       "3         0  oper_0        1774    0.036610 2017-05-22  3582.894192   \n",
       "4         0  oper_0        1774    0.036610 2017-05-23  3827.375026   \n",
       "5         0  oper_0        1774    0.036610 2017-05-24  4372.911132   \n",
       "6         0  oper_0        1774    0.036610 2017-05-25  4734.283935   \n",
       "7         0  oper_0        1774    0.036610 2017-05-26  4175.888505   \n",
       "8         0  oper_0        1774    0.036610 2017-05-30  3872.813500   \n",
       "9         0  oper_0        1774    0.036610 2017-05-31  4771.517249   \n",
       "10        0  oper_0        1908    0.033508 2017-05-17  5559.443109   \n",
       "11        0  oper_0        1908    0.033508 2017-05-18  5281.494005   \n",
       "12        0  oper_0        1908    0.033508 2017-05-19  5613.064789   \n",
       "13        0  oper_0        1908    0.033508 2017-05-22  3582.894192   \n",
       "14        0  oper_0        1908    0.033508 2017-05-23  3827.375026   \n",
       "15        0  oper_0        1908    0.033508 2017-05-24  4372.911132   \n",
       "16        0  oper_0        1908    0.033508 2017-05-25  4734.283935   \n",
       "17        0  oper_0        1908    0.033508 2017-05-26  4175.888505   \n",
       "18        0  oper_0        1908    0.033508 2017-05-30  3872.813500   \n",
       "19        0  oper_0        1908    0.033508 2017-05-31  4771.517249   \n",
       "\n",
       "     pred_term  \n",
       "0   203.529390  \n",
       "1   193.353765  \n",
       "2   205.492462  \n",
       "3   131.168582  \n",
       "4   140.118945  \n",
       "5   160.090843  \n",
       "6   173.320583  \n",
       "7   152.877910  \n",
       "8   141.782433  \n",
       "9   174.683683  \n",
       "10  186.284391  \n",
       "11  176.970944  \n",
       "12  188.081132  \n",
       "13  120.054698  \n",
       "14  128.246699  \n",
       "15  146.526382  \n",
       "16  158.635169  \n",
       "17  139.924599  \n",
       "18  129.769239  \n",
       "19  159.882774  "
      ]
     },
     "execution_count": 130,
     "metadata": {},
     "output_type": "execute_result"
    }
   ],
   "source": [
    "agg_last_days_oper_term.head(20)"
   ]
  },
  {
   "cell_type": "markdown",
   "metadata": {},
   "source": [
    "**TO DO:**\n",
    "\n",
    "* Desplegar la solución desarrollada.\n",
    "* Evaluar metricas por terminal.\n",
    "* Evaluar el ajuste de una red neuronal recurrente, la poca cantidad de datos podria no hacer funcionar este enfoque, sin embargo se podría hacer el ejercicio de evaluar.\n",
    "* Se podría pensar en construir un modelo por operación. Un modelo por operación y terminal podria volverse muy complejo de mantener y desplegar en producción, adicionalmente sería muy variable las estimaciones debido al bajo volumen de transacciones que hay por terminal."
   ]
  },
  {
   "cell_type": "code",
   "execution_count": null,
   "metadata": {},
   "outputs": [],
   "source": []
  }
 ],
 "metadata": {
  "kernelspec": {
   "display_name": "Python 3",
   "language": "python",
   "name": "python3"
  },
  "language_info": {
   "codemirror_mode": {
    "name": "ipython",
    "version": 3
   },
   "file_extension": ".py",
   "mimetype": "text/x-python",
   "name": "python",
   "nbconvert_exporter": "python",
   "pygments_lexer": "ipython3",
   "version": "3.8.5"
  }
 },
 "nbformat": 4,
 "nbformat_minor": 5
}
