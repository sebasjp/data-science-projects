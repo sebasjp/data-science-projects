{
 "cells": [
  {
   "cell_type": "code",
   "execution_count": 1,
   "metadata": {},
   "outputs": [],
   "source": [
    "from joblib import load\n",
    "from sklearn.model_selection import KFold, cross_val_score\n",
    "import matplotlib.pyplot as plt\n",
    "\n",
    "import pandas as pd"
   ]
  },
  {
   "cell_type": "code",
   "execution_count": 2,
   "metadata": {},
   "outputs": [],
   "source": [
    "X_train = pd.read_parquet('../data/X_train.parquet')\n",
    "y_train = pd.read_parquet('../data/y_train.parquet')\n",
    "\n",
    "X_test  = pd.read_parquet('../data/X_test.parquet')\n",
    "y_test  = pd.read_parquet('../data/y_test.parquet')\n",
    "\n",
    "features_selected = ['serum_sodium', \n",
    "                     'platelets', \n",
    "                     'creatinine_phosphokinase', \n",
    "                     'age',\n",
    "                     'ejection_fraction',\n",
    "                     'serum_creatinine'\n",
    "                    ]\n",
    "\n",
    "X_train = X_train.loc[: , features_selected]\n",
    "X_test = X_test.loc[: , features_selected]\n",
    "\n",
    "y_train = y_train['DEATH_EVENT']\n",
    "y_test = y_test['DEATH_EVENT'] "
   ]
  },
  {
   "cell_type": "code",
   "execution_count": 3,
   "metadata": {},
   "outputs": [],
   "source": [
    "lr   = load('../models/logistic_regression.pkl')\n",
    "lr_r = load('../models/logistic_regression_regularized.pkl')\n",
    "dt   = load('../models/decision_tree.pkl')\n",
    "bagg = load('../models/bagging_tree.pkl')\n",
    "rf   = load('../models/random_forest.pkl')"
   ]
  },
  {
   "cell_type": "code",
   "execution_count": 5,
   "metadata": {},
   "outputs": [
    {
     "name": "stdout",
     "output_type": "stream",
     "text": [
      "LR: 0.774762 (0.086453)\n",
      "LRR: 0.770000 (0.088321)\n",
      "DT: 0.799286 (0.086845)\n",
      "BAGGING: 0.789762 (0.073771)\n",
      "RF: 0.756190 (0.083158)\n"
     ]
    },
    {
     "data": {
      "image/png": "[encoded data removed]",
      "text/plain": [
       "<Figure size 432x288 with 1 Axes>"
      ]
     },
     "metadata": {
      "needs_background": "light"
     },
     "output_type": "display_data"
    }
   ],
   "source": [
    "seed = 7\n",
    "# prepare models\n",
    "models = []\n",
    "models.append( ('LR', lr) )\n",
    "models.append( ('LRR', lr_r) )\n",
    "models.append( ('DT', dt) )\n",
    "models.append( ('BAGGING', bagg) )\n",
    "models.append( ('RF', rf) )\n",
    "\n",
    "# evaluate each model in turn\n",
    "results = []\n",
    "names = []\n",
    "scoring = 'accuracy'\n",
    "\n",
    "for name, model in models:\n",
    "    kfold = KFold(n_splits = 10, shuffle = True, random_state = seed)\n",
    "    cv_results = cross_val_score(model, X_train, y_train, cv = kfold, scoring = scoring)\n",
    "    results.append(cv_results)\n",
    "    names.append(name)\n",
    "    msg = \"%s: %f (%f)\" % (name, cv_results.mean(), cv_results.std())\n",
    "    print(msg)\n",
    "    \n",
    "# boxplot algorithm comparison\n",
    "fig = plt.figure()\n",
    "fig.suptitle('Algorithm Comparison')\n",
    "ax = fig.add_subplot(111)\n",
    "plt.boxplot(results)\n",
    "ax.set_xticklabels(names)\n",
    "plt.show()"
   ]
  },
  {
   "cell_type": "code",
   "execution_count": 6,
   "metadata": {},
   "outputs": [
    {
     "name": "stdout",
     "output_type": "stream",
     "text": [
      "LR: 0.691667 (0.311916)\n",
      "LRR: 0.641667 (0.372771)\n",
      "DT: 0.813333 (0.216641)\n",
      "BAGGING: 0.786667 (0.247296)\n"
     ]
    },
    {
     "name": "stderr",
     "output_type": "stream",
     "text": [
      "/home/sebastian/anaconda3/lib/python3.8/site-packages/sklearn/metrics/_classification.py:1245: UndefinedMetricWarning: Precision is ill-defined and being set to 0.0 due to no predicted samples. Use `zero_division` parameter to control this behavior.\n",
      "  _warn_prf(average, modifier, msg_start, len(result))\n"
     ]
    },
    {
     "name": "stdout",
     "output_type": "stream",
     "text": [
      "RF: 0.650000 (0.347211)\n"
     ]
    },
    {
     "data": {
      "image/png": "[encoded data removed]",
      "text/plain": [
       "<Figure size 432x288 with 1 Axes>"
      ]
     },
     "metadata": {
      "needs_background": "light"
     },
     "output_type": "display_data"
    }
   ],
   "source": [
    "seed = 7\n",
    "# prepare models\n",
    "models = []\n",
    "models.append( ('LR', lr) )\n",
    "models.append( ('LRR', lr_r) )\n",
    "models.append( ('DT', dt) )\n",
    "models.append( ('BAGGING', bagg) )\n",
    "models.append( ('RF', rf) )\n",
    "\n",
    "# evaluate each model in turn\n",
    "results = []\n",
    "names = []\n",
    "scoring = 'precision'\n",
    "\n",
    "for name, model in models:\n",
    "    kfold = KFold(n_splits = 10, shuffle = True, random_state = seed)\n",
    "    cv_results = cross_val_score(model, X_train, y_train, cv = kfold, scoring = scoring)\n",
    "    results.append(cv_results)\n",
    "    names.append(name)\n",
    "    msg = \"%s: %f (%f)\" % (name, cv_results.mean(), cv_results.std())\n",
    "    print(msg)\n",
    "    \n",
    "# boxplot algorithm comparison\n",
    "fig = plt.figure()\n",
    "fig.suptitle('Algorithm Comparison')\n",
    "ax = fig.add_subplot(111)\n",
    "plt.boxplot(results)\n",
    "ax.set_xticklabels(names)\n",
    "plt.show()"
   ]
  },
  {
   "cell_type": "code",
   "execution_count": 7,
   "metadata": {},
   "outputs": [
    {
     "name": "stdout",
     "output_type": "stream",
     "text": [
      "LR: 0.392222 (0.255799)\n",
      "LRR: 0.372222 (0.276988)\n",
      "DT: 0.452778 (0.260333)\n",
      "BAGGING: 0.452778 (0.260333)\n",
      "RF: 0.409444 (0.282690)\n"
     ]
    },
    {
     "data": {
      "image/png": "[encoded data removed]",
      "text/plain": [
       "<Figure size 432x288 with 1 Axes>"
      ]
     },
     "metadata": {
      "needs_background": "light"
     },
     "output_type": "display_data"
    }
   ],
   "source": [
    "seed = 7\n",
    "# prepare models\n",
    "models = []\n",
    "models.append( ('LR', lr) )\n",
    "models.append( ('LRR', lr_r) )\n",
    "models.append( ('DT', dt) )\n",
    "models.append( ('BAGGING', bagg) )\n",
    "models.append( ('RF', rf) )\n",
    "\n",
    "# evaluate each model in turn\n",
    "results = []\n",
    "names = []\n",
    "scoring = 'recall'\n",
    "\n",
    "for name, model in models:\n",
    "    kfold = KFold(n_splits = 10, shuffle = True, random_state = seed)\n",
    "    cv_results = cross_val_score(model, X_train, y_train, cv = kfold, scoring = scoring)\n",
    "    results.append(cv_results)\n",
    "    names.append(name)\n",
    "    msg = \"%s: %f (%f)\" % (name, cv_results.mean(), cv_results.std())\n",
    "    print(msg)\n",
    "    \n",
    "# boxplot algorithm comparison\n",
    "fig = plt.figure()\n",
    "fig.suptitle('Algorithm Comparison')\n",
    "ax = fig.add_subplot(111)\n",
    "plt.boxplot(results)\n",
    "ax.set_xticklabels(names)\n",
    "plt.show()"
   ]
  },
  {
   "cell_type": "markdown",
   "metadata": {},
   "source": [
    "**El arbol de decision y el Bagging fueron los que presentaron el mejor desempeño. Se selecciona el Bagging porque presenta menor variabilidad en el accuracy y no hay mucha diferencia con el arbol de decision. En las demás metricas tampoco presenta grandes diferencias con el arbol de decision.**"
   ]
  },
  {
   "cell_type": "code",
   "execution_count": null,
   "metadata": {},
   "outputs": [],
   "source": []
  }
 ],
 "metadata": {
  "kernelspec": {
   "display_name": "Python 3",
   "language": "python",
   "name": "python3"
  },
  "language_info": {
   "codemirror_mode": {
    "name": "ipython",
    "version": 3
   },
   "file_extension": ".py",
   "mimetype": "text/x-python",
   "name": "python",
   "nbconvert_exporter": "python",
   "pygments_lexer": "ipython3",
   "version": "3.7.10"
  }
 },
 "nbformat": 4,
 "nbformat_minor": 4
}
